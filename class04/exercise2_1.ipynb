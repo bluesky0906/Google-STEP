{
  "cells": [
    {
      "cell_type": "code",
      "execution_count": null,
      "metadata": {},
      "outputs": [],
      "source": [
        "# Googleから一番遠い記事を見つけようとしたものです\n",
        "# Google Colab上で動かそうとしていました。"
      ]
    },
    {
      "cell_type": "code",
      "metadata": {
        "id": "Jkb17GqjE3aH",
        "colab_type": "code",
        "colab": {}
      },
      "source": [
        "from google.colab import drive\n",
        "drive.mount('/content/drive')"
      ],
      "execution_count": 0,
      "outputs": []
    },
    {
      "cell_type": "code",
      "metadata": {
        "id": "gl08euE1T8R4",
        "colab_type": "code",
        "colab": {}
      },
      "source": [
        "cd drive/My\\ Drive/STEP"
      ],
      "execution_count": 0,
      "outputs": []
    },
    {
      "cell_type": "code",
      "metadata": {
        "id": "MeE0fg4y-he4",
        "colab_type": "code",
        "colab": {}
      },
      "source": [
        "from class04.exercise1_1 import search_bfs, read_links, name_to_id\n",
        "from tqdm import tqdm"
      ],
      "execution_count": 0,
      "outputs": []
    },
    {
      "cell_type": "code",
      "metadata": {
        "id": "1op9Rk-XBzgU",
        "colab_type": "code",
        "colab": {}
      },
      "source": [
        "PAGES_PATH = 'class04/data/wikipedia/pages.txt'\n",
        "LINKES_PATH = 'class04/data/wikipedia/links.txt'"
      ],
      "execution_count": 0,
      "outputs": []
    },
    {
      "cell_type": "code",
      "metadata": {
        "id": "NIbAGUpSB1Er",
        "colab_type": "code",
        "colab": {}
      },
      "source": [
        "# link情報を読み込み\n",
        "# idをkey, Nodeのインスタンスをvalueにしてdicを作る\n",
        "page_dic = read_links(PAGES_PATH, LINKES_PATH)"
      ],
      "execution_count": 0,
      "outputs": []
    },
    {
      "cell_type": "code",
      "metadata": {
        "id": "xZS38SN72H8A",
        "colab_type": "code",
        "colab": {}
      },
      "source": [
        "print(len(page_dic))"
      ],
      "execution_count": 0,
      "outputs": []
    },
    {
      "cell_type": "code",
      "metadata": {
        "id": "31cYc2wFHf3r",
        "colab_type": "code",
        "colab": {}
      },
      "source": [
        "farthest_path = []\n",
        "start_id = name_to_id(page_dic, 'Google')\n",
        "for target_id in tqdm(page_dic):\n",
        "    break\n",
        "  # start_idと同じ場合は無視\n",
        "  if target_id == start_id:\n",
        "    continue\n",
        "  result = search_bfs(page_dic, start_id, target_id)\n",
        "  # 探索ができたかつ、今までで一番遠い距離だったら\n",
        "  if result and len(farthest_path) < len(result):\n",
        "    farthest_path = result"
      ],
      "execution_count": 0,
      "outputs": []
    },
    {
      "cell_type": "code",
      "metadata": {
        "id": "VMbZ2l2nIyAa",
        "colab_type": "code",
        "colab": {}
      },
      "source": [
        "farthest_path_name = [page_dic[page].name for page in farthest_path]\n",
        "print('最もGoogleから遠い:', farthest_path_name[-1])\n",
        "print(' -> '.join(farthest_path_name[:10]))\n",
        "print(' -> '.join(farthest_path_name[-10:]))"
      ],
      "execution_count": 0,
      "outputs": []
    },
    {
      "cell_type": "code",
      "metadata": {
        "id": "zCEyTNsxa2c2",
        "colab_type": "code",
        "colab": {}
      },
      "source": [
        ""
      ],
      "execution_count": 0,
      "outputs": []
    }
  ],
  "metadata": {
    "colab": {
      "name": "exercise2_1.ipynb",
      "provenance": [],
      "collapsed_sections": [],
      "toc_visible": true
    },
    "kernelspec": {
      "name": "python3",
      "display_name": "Python 3"
    }
  },
  "nbformat": 4,
  "nbformat_minor": 0
}